{
 "cells": [
  {
   "cell_type": "code",
   "execution_count": 2,
   "metadata": {},
   "outputs": [],
   "source": [
    "import matplotlib.pyplot as plt\n",
    "import seaborn as sns\n",
    "import numpy as np\n",
    "import pandas as pd\n",
    "import scipy.stats as stats"
   ]
  },
  {
   "cell_type": "markdown",
   "metadata": {},
   "source": [
    "Leer database usando Webscrapping"
   ]
  },
  {
   "cell_type": "code",
   "execution_count": 3,
   "metadata": {},
   "outputs": [
    {
     "data": {
      "text/html": [
       "<div>\n",
       "<style scoped>\n",
       "    .dataframe tbody tr th:only-of-type {\n",
       "        vertical-align: middle;\n",
       "    }\n",
       "\n",
       "    .dataframe tbody tr th {\n",
       "        vertical-align: top;\n",
       "    }\n",
       "\n",
       "    .dataframe thead th {\n",
       "        text-align: right;\n",
       "    }\n",
       "</style>\n",
       "<table border=\"1\" class=\"dataframe\">\n",
       "  <thead>\n",
       "    <tr style=\"text-align: right;\">\n",
       "      <th></th>\n",
       "      <th>date</th>\n",
       "      <th>World Cup Qualif</th>\n",
       "      <th>Team_home</th>\n",
       "      <th>Team_away</th>\n",
       "      <th>Goals_home</th>\n",
       "      <th>Goals_away</th>\n",
       "    </tr>\n",
       "  </thead>\n",
       "  <tbody>\n",
       "    <tr>\n",
       "      <th>36</th>\n",
       "      <td>1997-04-02</td>\n",
       "      <td>1998</td>\n",
       "      <td>Bolivia</td>\n",
       "      <td>Argentina</td>\n",
       "      <td>2.0</td>\n",
       "      <td>1.0</td>\n",
       "    </tr>\n",
       "    <tr>\n",
       "      <th>310</th>\n",
       "      <td>2009-04-01</td>\n",
       "      <td>2010</td>\n",
       "      <td>Chile</td>\n",
       "      <td>Uruguay</td>\n",
       "      <td>0.0</td>\n",
       "      <td>0.0</td>\n",
       "    </tr>\n",
       "    <tr>\n",
       "      <th>119</th>\n",
       "      <td>2000-11-15</td>\n",
       "      <td>2002</td>\n",
       "      <td>Paraguay</td>\n",
       "      <td>Peru</td>\n",
       "      <td>5.0</td>\n",
       "      <td>1.0</td>\n",
       "    </tr>\n",
       "    <tr>\n",
       "      <th>590</th>\n",
       "      <td>2022-03-29</td>\n",
       "      <td>2022</td>\n",
       "      <td>Venezuela</td>\n",
       "      <td>Colombia</td>\n",
       "      <td>NaN</td>\n",
       "      <td>NaN</td>\n",
       "    </tr>\n",
       "    <tr>\n",
       "      <th>53</th>\n",
       "      <td>1997-07-20</td>\n",
       "      <td>1998</td>\n",
       "      <td>Bolivia</td>\n",
       "      <td>Uruguay</td>\n",
       "      <td>1.0</td>\n",
       "      <td>0.0</td>\n",
       "    </tr>\n",
       "    <tr>\n",
       "      <th>124</th>\n",
       "      <td>2001-03-28</td>\n",
       "      <td>2002</td>\n",
       "      <td>Ecuador</td>\n",
       "      <td>Brazil</td>\n",
       "      <td>1.0</td>\n",
       "      <td>0.0</td>\n",
       "    </tr>\n",
       "    <tr>\n",
       "      <th>495</th>\n",
       "      <td>2017-10-05</td>\n",
       "      <td>2018</td>\n",
       "      <td>Venezuela</td>\n",
       "      <td>Uruguay</td>\n",
       "      <td>0.0</td>\n",
       "      <td>0.0</td>\n",
       "    </tr>\n",
       "  </tbody>\n",
       "</table>\n",
       "</div>"
      ],
      "text/plain": [
       "          date  World Cup Qualif  Team_home  Team_away  Goals_home  Goals_away\n",
       "36  1997-04-02              1998    Bolivia  Argentina         2.0         1.0\n",
       "310 2009-04-01              2010      Chile    Uruguay         0.0         0.0\n",
       "119 2000-11-15              2002   Paraguay       Peru         5.0         1.0\n",
       "590 2022-03-29              2022  Venezuela   Colombia         NaN         NaN\n",
       "53  1997-07-20              1998    Bolivia    Uruguay         1.0         0.0\n",
       "124 2001-03-28              2002    Ecuador     Brazil         1.0         0.0\n",
       "495 2017-10-05              2018  Venezuela    Uruguay         0.0         0.0"
      ]
     },
     "execution_count": 3,
     "metadata": {},
     "output_type": "execute_result"
    }
   ],
   "source": [
    "import Scrapping_conmebol as scrap\n",
    "\n",
    "database = scrap.database\n",
    "database.sample(7)"
   ]
  },
  {
   "cell_type": "code",
   "execution_count": 5,
   "metadata": {},
   "outputs": [],
   "source": [
    "database.to_csv(\"conmebol.csv\", index=False)"
   ]
  },
  {
   "cell_type": "code",
   "execution_count": 5,
   "metadata": {},
   "outputs": [
    {
     "data": {
      "text/html": [
       "<div>\n",
       "<style scoped>\n",
       "    .dataframe tbody tr th:only-of-type {\n",
       "        vertical-align: middle;\n",
       "    }\n",
       "\n",
       "    .dataframe tbody tr th {\n",
       "        vertical-align: top;\n",
       "    }\n",
       "\n",
       "    .dataframe thead th {\n",
       "        text-align: right;\n",
       "    }\n",
       "</style>\n",
       "<table border=\"1\" class=\"dataframe\">\n",
       "  <thead>\n",
       "    <tr style=\"text-align: right;\">\n",
       "      <th></th>\n",
       "      <th>date</th>\n",
       "      <th>World Cup Qualif</th>\n",
       "      <th>Team_home</th>\n",
       "      <th>Team_away</th>\n",
       "      <th>Goals_home</th>\n",
       "      <th>Goals_away</th>\n",
       "    </tr>\n",
       "  </thead>\n",
       "  <tbody>\n",
       "    <tr>\n",
       "      <th>539</th>\n",
       "      <td>2021-09-05</td>\n",
       "      <td>2022</td>\n",
       "      <td>Brazil</td>\n",
       "      <td>Argentina</td>\n",
       "      <td>NaN</td>\n",
       "      <td>NaN</td>\n",
       "    </tr>\n",
       "    <tr>\n",
       "      <th>584</th>\n",
       "      <td>2022-03-24</td>\n",
       "      <td>2022</td>\n",
       "      <td>Uruguay</td>\n",
       "      <td>Peru</td>\n",
       "      <td>NaN</td>\n",
       "      <td>NaN</td>\n",
       "    </tr>\n",
       "    <tr>\n",
       "      <th>585</th>\n",
       "      <td>2022-03-24</td>\n",
       "      <td>2022</td>\n",
       "      <td>Colombia</td>\n",
       "      <td>Bolivia</td>\n",
       "      <td>NaN</td>\n",
       "      <td>NaN</td>\n",
       "    </tr>\n",
       "    <tr>\n",
       "      <th>586</th>\n",
       "      <td>2022-03-24</td>\n",
       "      <td>2022</td>\n",
       "      <td>Brazil</td>\n",
       "      <td>Chile</td>\n",
       "      <td>NaN</td>\n",
       "      <td>NaN</td>\n",
       "    </tr>\n",
       "    <tr>\n",
       "      <th>587</th>\n",
       "      <td>2022-03-24</td>\n",
       "      <td>2022</td>\n",
       "      <td>Paraguay</td>\n",
       "      <td>Ecuador</td>\n",
       "      <td>NaN</td>\n",
       "      <td>NaN</td>\n",
       "    </tr>\n",
       "    <tr>\n",
       "      <th>588</th>\n",
       "      <td>2022-03-25</td>\n",
       "      <td>2022</td>\n",
       "      <td>Argentina</td>\n",
       "      <td>Venezuela</td>\n",
       "      <td>NaN</td>\n",
       "      <td>NaN</td>\n",
       "    </tr>\n",
       "    <tr>\n",
       "      <th>589</th>\n",
       "      <td>2022-03-29</td>\n",
       "      <td>2022</td>\n",
       "      <td>Peru</td>\n",
       "      <td>Paraguay</td>\n",
       "      <td>NaN</td>\n",
       "      <td>NaN</td>\n",
       "    </tr>\n",
       "    <tr>\n",
       "      <th>590</th>\n",
       "      <td>2022-03-29</td>\n",
       "      <td>2022</td>\n",
       "      <td>Venezuela</td>\n",
       "      <td>Colombia</td>\n",
       "      <td>NaN</td>\n",
       "      <td>NaN</td>\n",
       "    </tr>\n",
       "    <tr>\n",
       "      <th>591</th>\n",
       "      <td>2022-03-29</td>\n",
       "      <td>2022</td>\n",
       "      <td>Bolivia</td>\n",
       "      <td>Brazil</td>\n",
       "      <td>NaN</td>\n",
       "      <td>NaN</td>\n",
       "    </tr>\n",
       "    <tr>\n",
       "      <th>592</th>\n",
       "      <td>2022-03-29</td>\n",
       "      <td>2022</td>\n",
       "      <td>Chile</td>\n",
       "      <td>Uruguay</td>\n",
       "      <td>NaN</td>\n",
       "      <td>NaN</td>\n",
       "    </tr>\n",
       "    <tr>\n",
       "      <th>593</th>\n",
       "      <td>2022-03-29</td>\n",
       "      <td>2022</td>\n",
       "      <td>Ecuador</td>\n",
       "      <td>Argentina</td>\n",
       "      <td>NaN</td>\n",
       "      <td>NaN</td>\n",
       "    </tr>\n",
       "  </tbody>\n",
       "</table>\n",
       "</div>"
      ],
      "text/plain": [
       "          date  World Cup Qualif  Team_home  Team_away  Goals_home  Goals_away\n",
       "539 2021-09-05              2022     Brazil  Argentina         NaN         NaN\n",
       "584 2022-03-24              2022    Uruguay       Peru         NaN         NaN\n",
       "585 2022-03-24              2022   Colombia    Bolivia         NaN         NaN\n",
       "586 2022-03-24              2022     Brazil      Chile         NaN         NaN\n",
       "587 2022-03-24              2022   Paraguay    Ecuador         NaN         NaN\n",
       "588 2022-03-25              2022  Argentina  Venezuela         NaN         NaN\n",
       "589 2022-03-29              2022       Peru   Paraguay         NaN         NaN\n",
       "590 2022-03-29              2022  Venezuela   Colombia         NaN         NaN\n",
       "591 2022-03-29              2022    Bolivia     Brazil         NaN         NaN\n",
       "592 2022-03-29              2022      Chile    Uruguay         NaN         NaN\n",
       "593 2022-03-29              2022    Ecuador  Argentina         NaN         NaN"
      ]
     },
     "execution_count": 5,
     "metadata": {},
     "output_type": "execute_result"
    }
   ],
   "source": [
    "#partidos por jugar\n",
    "index_na = database[database['Goals_home'].isna()].index\n",
    "database[database['Goals_home'].isna()]"
   ]
  },
  {
   "cell_type": "code",
   "execution_count": 6,
   "metadata": {},
   "outputs": [
    {
     "name": "stdout",
     "output_type": "stream",
     "text": [
      "(583, 6)\n"
     ]
    },
    {
     "data": {
      "text/html": [
       "<div>\n",
       "<style scoped>\n",
       "    .dataframe tbody tr th:only-of-type {\n",
       "        vertical-align: middle;\n",
       "    }\n",
       "\n",
       "    .dataframe tbody tr th {\n",
       "        vertical-align: top;\n",
       "    }\n",
       "\n",
       "    .dataframe thead th {\n",
       "        text-align: right;\n",
       "    }\n",
       "</style>\n",
       "<table border=\"1\" class=\"dataframe\">\n",
       "  <thead>\n",
       "    <tr style=\"text-align: right;\">\n",
       "      <th></th>\n",
       "      <th>date</th>\n",
       "      <th>World Cup Qualif</th>\n",
       "      <th>Team_home</th>\n",
       "      <th>Team_away</th>\n",
       "      <th>Goals_home</th>\n",
       "      <th>Goals_away</th>\n",
       "    </tr>\n",
       "  </thead>\n",
       "  <tbody>\n",
       "    <tr>\n",
       "      <th>236</th>\n",
       "      <td>2005-06-08</td>\n",
       "      <td>2006</td>\n",
       "      <td>Argentina</td>\n",
       "      <td>Brazil</td>\n",
       "      <td>3.0</td>\n",
       "      <td>1.0</td>\n",
       "    </tr>\n",
       "    <tr>\n",
       "      <th>281</th>\n",
       "      <td>2008-06-19</td>\n",
       "      <td>2010</td>\n",
       "      <td>Venezuela</td>\n",
       "      <td>Chile</td>\n",
       "      <td>2.0</td>\n",
       "      <td>3.0</td>\n",
       "    </tr>\n",
       "    <tr>\n",
       "      <th>109</th>\n",
       "      <td>2000-09-03</td>\n",
       "      <td>2002</td>\n",
       "      <td>Uruguay</td>\n",
       "      <td>Ecuador</td>\n",
       "      <td>4.0</td>\n",
       "      <td>0.0</td>\n",
       "    </tr>\n",
       "    <tr>\n",
       "      <th>462</th>\n",
       "      <td>2016-10-11</td>\n",
       "      <td>2018</td>\n",
       "      <td>Chile</td>\n",
       "      <td>Peru</td>\n",
       "      <td>2.0</td>\n",
       "      <td>1.0</td>\n",
       "    </tr>\n",
       "    <tr>\n",
       "      <th>235</th>\n",
       "      <td>2005-06-08</td>\n",
       "      <td>2006</td>\n",
       "      <td>Paraguay</td>\n",
       "      <td>Bolivia</td>\n",
       "      <td>4.0</td>\n",
       "      <td>1.0</td>\n",
       "    </tr>\n",
       "  </tbody>\n",
       "</table>\n",
       "</div>"
      ],
      "text/plain": [
       "          date  World Cup Qualif  Team_home Team_away  Goals_home  Goals_away\n",
       "236 2005-06-08              2006  Argentina    Brazil         3.0         1.0\n",
       "281 2008-06-19              2010  Venezuela     Chile         2.0         3.0\n",
       "109 2000-09-03              2002    Uruguay   Ecuador         4.0         0.0\n",
       "462 2016-10-11              2018      Chile      Peru         2.0         1.0\n",
       "235 2005-06-08              2006   Paraguay   Bolivia         4.0         1.0"
      ]
     },
     "execution_count": 6,
     "metadata": {},
     "output_type": "execute_result"
    }
   ],
   "source": [
    "#Partidos jugados\n",
    "print(database[~database['Goals_home'].isna()].shape)\n",
    "df = database[~database['Goals_home'].isna()]\n",
    "df.sample(5)"
   ]
  },
  {
   "cell_type": "code",
   "execution_count": 7,
   "metadata": {},
   "outputs": [
    {
     "name": "stdout",
     "output_type": "stream",
     "text": [
      "<class 'pandas.core.frame.DataFrame'>\n",
      "Int64Index: 583 entries, 0 to 583\n",
      "Data columns (total 6 columns):\n",
      " #   Column            Non-Null Count  Dtype         \n",
      "---  ------            --------------  -----         \n",
      " 0   date              583 non-null    datetime64[ns]\n",
      " 1   World Cup Qualif  583 non-null    int64         \n",
      " 2   Team_home         583 non-null    object        \n",
      " 3   Team_away         583 non-null    object        \n",
      " 4   Goals_home        583 non-null    float64       \n",
      " 5   Goals_away        583 non-null    float64       \n",
      "dtypes: datetime64[ns](1), float64(2), int64(1), object(2)\n",
      "memory usage: 31.9+ KB\n"
     ]
    }
   ],
   "source": [
    "df.info()"
   ]
  },
  {
   "cell_type": "markdown",
   "metadata": {},
   "source": [
    "Distribución de goles"
   ]
  },
  {
   "cell_type": "code",
   "execution_count": 9,
   "metadata": {},
   "outputs": [
    {
     "data": {
      "image/png": "[encoded data removed]",
      "text/plain": [
       "<Figure size 432x288 with 1 Axes>"
      ]
     },
     "metadata": {
      "needs_background": "light"
     },
     "output_type": "display_data"
    }
   ],
   "source": [
    "#Graph home and away\n",
    "home = pd.DataFrame(df['Goals_home'])\n",
    "home.insert(home.shape[1],'Guest', 'Home', True)\n",
    "home.rename(columns={'Goals_home':'Goals'}, inplace=True)\n",
    "\n",
    "away = pd.DataFrame(df['Goals_away'])\n",
    "away.insert(away.shape[1],'Guest', 'Away', True)\n",
    "away.rename(columns={'Goals_away':'Goals'}, inplace=True)\n",
    "\n",
    "goals = pd.concat([home, away], axis=0, ignore_index=True)\n",
    "\n",
    "my_pal = {\"Home\": \"tab:red\", \"Away\": \"tab:blue\"}\n",
    "sns.histplot(data=goals, x='Goals', hue='Guest', stat='frequency', discrete=True, shrink=.8, alpha=0.65, multiple=\"dodge\", palette=my_pal)\n",
    "plt.savefig(r'img/goals_descriptive.png')"
   ]
  },
  {
   "cell_type": "code",
   "execution_count": 11,
   "metadata": {},
   "outputs": [
    {
     "data": {
      "text/html": [
       "<div>\n",
       "<style scoped>\n",
       "    .dataframe tbody tr th:only-of-type {\n",
       "        vertical-align: middle;\n",
       "    }\n",
       "\n",
       "    .dataframe tbody tr th {\n",
       "        vertical-align: top;\n",
       "    }\n",
       "\n",
       "    .dataframe thead th {\n",
       "        text-align: right;\n",
       "    }\n",
       "</style>\n",
       "<table border=\"1\" class=\"dataframe\">\n",
       "  <thead>\n",
       "    <tr style=\"text-align: right;\">\n",
       "      <th></th>\n",
       "      <th>Goals_home</th>\n",
       "      <th>Goals_away</th>\n",
       "    </tr>\n",
       "  </thead>\n",
       "  <tbody>\n",
       "    <tr>\n",
       "      <th>count</th>\n",
       "      <td>583.000000</td>\n",
       "      <td>583.000000</td>\n",
       "    </tr>\n",
       "    <tr>\n",
       "      <th>mean</th>\n",
       "      <td>1.675815</td>\n",
       "      <td>0.943396</td>\n",
       "    </tr>\n",
       "    <tr>\n",
       "      <th>std</th>\n",
       "      <td>1.395703</td>\n",
       "      <td>1.039703</td>\n",
       "    </tr>\n",
       "    <tr>\n",
       "      <th>min</th>\n",
       "      <td>0.000000</td>\n",
       "      <td>0.000000</td>\n",
       "    </tr>\n",
       "    <tr>\n",
       "      <th>25%</th>\n",
       "      <td>1.000000</td>\n",
       "      <td>0.000000</td>\n",
       "    </tr>\n",
       "    <tr>\n",
       "      <th>50%</th>\n",
       "      <td>1.000000</td>\n",
       "      <td>1.000000</td>\n",
       "    </tr>\n",
       "    <tr>\n",
       "      <th>75%</th>\n",
       "      <td>2.500000</td>\n",
       "      <td>1.000000</td>\n",
       "    </tr>\n",
       "    <tr>\n",
       "      <th>max</th>\n",
       "      <td>6.000000</td>\n",
       "      <td>6.000000</td>\n",
       "    </tr>\n",
       "  </tbody>\n",
       "</table>\n",
       "</div>"
      ],
      "text/plain": [
       "       Goals_home  Goals_away\n",
       "count  583.000000  583.000000\n",
       "mean     1.675815    0.943396\n",
       "std      1.395703    1.039703\n",
       "min      0.000000    0.000000\n",
       "25%      1.000000    0.000000\n",
       "50%      1.000000    1.000000\n",
       "75%      2.500000    1.000000\n",
       "max      6.000000    6.000000"
      ]
     },
     "execution_count": 11,
     "metadata": {},
     "output_type": "execute_result"
    }
   ],
   "source": [
    "#Goals Summary\n",
    "df[['Goals_home','Goals_away']].describe()"
   ]
  },
  {
   "cell_type": "code",
   "execution_count": 30,
   "metadata": {},
   "outputs": [
    {
     "name": "stdout",
     "output_type": "stream",
     "text": [
      "1.68 0.94\n"
     ]
    }
   ],
   "source": [
    "#Estimate pmf in each team\n",
    "#I use ML, in poisson dist, the maximum likelihood to lambda is the mean\n",
    "lambda_home = np.round(np.mean(df['Goals_home']),2)\n",
    "lambda_away = np.round(np.mean(df['Goals_away']),2)\n",
    "\n",
    "print(lambda_home, lambda_away)\n",
    "\n",
    "#fit the poisson dist\n",
    "home_dist = stats.poisson(lambda_home)\n",
    "away_dist = stats.poisson(lambda_away)\n",
    "x = np.arange(7)"
   ]
  },
  {
   "cell_type": "code",
   "execution_count": 31,
   "metadata": {},
   "outputs": [
    {
     "data": {
      "image/png": "[encoded data removed]",
      "text/plain": [
       "<Figure size 864x288 with 2 Axes>"
      ]
     },
     "metadata": {
      "needs_background": "light"
     },
     "output_type": "display_data"
    }
   ],
   "source": [
    "#graph both estimations\n",
    "fig, ax = plt.subplots(1,2,figsize=(12,4))\n",
    "\n",
    "ax[0].hist(df['Goals_home'], bins=range(8), density=True, histtype='bar', align='left', orientation='vertical', rwidth=0.85, \n",
    "color=\"tab:red\", alpha=0.45, label=\"Goals converted\")\n",
    "ax[0].plot(x, home_dist.pmf(x), ls='-.', color='tab:red', alpha=0.8, label=\"goals predicted\")\n",
    "ax[0].legend()\n",
    "ax[0].title.set_text(\"Home goals converted by local Team\")\n",
    "\n",
    "ax[1].hist(df['Goals_away'], bins=range(8), density=True, histtype='bar', align='left', orientation='vertical', rwidth=0.85, \n",
    "color=\"tab:blue\", alpha=0.45, label=\"Goals converted\")\n",
    "ax[1].plot(x, away_dist.pmf(x), ls='-.', color='tab:blue', alpha=0.8, label=\"goals predicted\")\n",
    "ax[1].legend()\n",
    "ax[1].title.set_text(\"Away goals converted by away Team\")\n",
    "\n",
    "plt.savefig(r'img/goals_predictive.png')"
   ]
  },
  {
   "cell_type": "markdown",
   "metadata": {},
   "source": [
    "Test de hipótesis para distribución Poisson"
   ]
  },
  {
   "cell_type": "code",
   "execution_count": 14,
   "metadata": {},
   "outputs": [
    {
     "name": "stdout",
     "output_type": "stream",
     "text": [
      "KStest for Chile: KstestResult(statistic=0.28335875664325183, pvalue=6.54379921972344e-42)\n",
      "KStest for Uruguay: KstestResult(statistic=0.3906278353585211, pvalue=1.218110572475791e-80)\n",
      "KstestResult(statistic=0.3906278353585211, pvalue=1.218110572475791e-80)\n"
     ]
    }
   ],
   "source": [
    "print('KStest for Chile:', stats.kstest(df['Goals_home'], home_dist.cdf))\n",
    "print('KStest for Uruguay:', stats.kstest(df['Goals_away'], away_dist.cdf))\n",
    "print(stats.ks_1samp(df['Goals_away'], away_dist.cdf))"
   ]
  },
  {
   "cell_type": "markdown",
   "metadata": {},
   "source": [
    "con alpha > p-valor, se rechaza la hipótesis que los goles pueden ajustarse a una distribución Poisson"
   ]
  },
  {
   "cell_type": "markdown",
   "metadata": {},
   "source": [
    "Crear modelo GLM Poisson"
   ]
  },
  {
   "cell_type": "code",
   "execution_count": 15,
   "metadata": {},
   "outputs": [],
   "source": [
    "import statsmodels.api as sm\n",
    "import statsmodels.formula.api as smf"
   ]
  },
  {
   "cell_type": "code",
   "execution_count": 16,
   "metadata": {},
   "outputs": [
    {
     "data": {
      "text/html": [
       "<table class=\"simpletable\">\n",
       "<caption>Generalized Linear Model Regression Results</caption>\n",
       "<tr>\n",
       "  <th>Dep. Variable:</th>         <td>goals</td>      <th>  No. Observations:  </th>  <td>  1166</td> \n",
       "</tr>\n",
       "<tr>\n",
       "  <th>Model:</th>                  <td>GLM</td>       <th>  Df Residuals:      </th>  <td>  1146</td> \n",
       "</tr>\n",
       "<tr>\n",
       "  <th>Model Family:</th>         <td>Poisson</td>     <th>  Df Model:          </th>  <td>    19</td> \n",
       "</tr>\n",
       "<tr>\n",
       "  <th>Link Function:</th>          <td>Log</td>       <th>  Scale:             </th> <td>  1.0000</td>\n",
       "</tr>\n",
       "<tr>\n",
       "  <th>Method:</th>                <td>IRLS</td>       <th>  Log-Likelihood:    </th> <td> -1640.3</td>\n",
       "</tr>\n",
       "<tr>\n",
       "  <th>Date:</th>            <td>Mon, 21 Mar 2022</td> <th>  Deviance:          </th> <td>  1319.4</td>\n",
       "</tr>\n",
       "<tr>\n",
       "  <th>Time:</th>                <td>18:21:44</td>     <th>  Pearson chi2:      </th> <td>1.17e+03</td>\n",
       "</tr>\n",
       "<tr>\n",
       "  <th>No. Iterations:</th>          <td>5</td>        <th>  Pseudo R-squ. (CS):</th>  <td>0.2221</td> \n",
       "</tr>\n",
       "<tr>\n",
       "  <th>Covariance Type:</th>     <td>nonrobust</td>    <th>                     </th>     <td> </td>   \n",
       "</tr>\n",
       "</table>\n",
       "<table class=\"simpletable\">\n",
       "<tr>\n",
       "            <td></td>               <th>coef</th>     <th>std err</th>      <th>z</th>      <th>P>|z|</th>  <th>[0.025</th>    <th>0.975]</th>  \n",
       "</tr>\n",
       "<tr>\n",
       "  <th>Intercept</th>             <td>   -0.2571</td> <td>    0.130</td> <td>   -1.983</td> <td> 0.047</td> <td>   -0.511</td> <td>   -0.003</td>\n",
       "</tr>\n",
       "<tr>\n",
       "  <th>Team[T.Bolivia]</th>       <td>   -0.2707</td> <td>    0.112</td> <td>   -2.407</td> <td> 0.016</td> <td>   -0.491</td> <td>   -0.050</td>\n",
       "</tr>\n",
       "<tr>\n",
       "  <th>Team[T.Brazil]</th>        <td>    0.1975</td> <td>    0.105</td> <td>    1.880</td> <td> 0.060</td> <td>   -0.008</td> <td>    0.404</td>\n",
       "</tr>\n",
       "<tr>\n",
       "  <th>Team[T.Chile]</th>         <td>   -0.0950</td> <td>    0.106</td> <td>   -0.899</td> <td> 0.369</td> <td>   -0.302</td> <td>    0.112</td>\n",
       "</tr>\n",
       "<tr>\n",
       "  <th>Team[T.Colombia]</th>      <td>   -0.2866</td> <td>    0.110</td> <td>   -2.597</td> <td> 0.009</td> <td>   -0.503</td> <td>   -0.070</td>\n",
       "</tr>\n",
       "<tr>\n",
       "  <th>Team[T.Ecuador]</th>       <td>   -0.1685</td> <td>    0.107</td> <td>   -1.572</td> <td> 0.116</td> <td>   -0.379</td> <td>    0.042</td>\n",
       "</tr>\n",
       "<tr>\n",
       "  <th>Team[T.Paraguay]</th>      <td>   -0.2856</td> <td>    0.111</td> <td>   -2.571</td> <td> 0.010</td> <td>   -0.503</td> <td>   -0.068</td>\n",
       "</tr>\n",
       "<tr>\n",
       "  <th>Team[T.Peru]</th>          <td>   -0.3964</td> <td>    0.115</td> <td>   -3.435</td> <td> 0.001</td> <td>   -0.623</td> <td>   -0.170</td>\n",
       "</tr>\n",
       "<tr>\n",
       "  <th>Team[T.Uruguay]</th>       <td>   -0.1424</td> <td>    0.107</td> <td>   -1.334</td> <td> 0.182</td> <td>   -0.352</td> <td>    0.067</td>\n",
       "</tr>\n",
       "<tr>\n",
       "  <th>Team[T.Venezuela]</th>     <td>   -0.4407</td> <td>    0.118</td> <td>   -3.733</td> <td> 0.000</td> <td>   -0.672</td> <td>   -0.209</td>\n",
       "</tr>\n",
       "<tr>\n",
       "  <th>Opponent[T.Bolivia]</th>   <td>    0.7567</td> <td>    0.119</td> <td>    6.338</td> <td> 0.000</td> <td>    0.523</td> <td>    0.991</td>\n",
       "</tr>\n",
       "<tr>\n",
       "  <th>Opponent[T.Brazil]</th>    <td>   -0.2042</td> <td>    0.162</td> <td>   -1.260</td> <td> 0.208</td> <td>   -0.522</td> <td>    0.113</td>\n",
       "</tr>\n",
       "<tr>\n",
       "  <th>Opponent[T.Chile]</th>     <td>    0.4241</td> <td>    0.127</td> <td>    3.339</td> <td> 0.001</td> <td>    0.175</td> <td>    0.673</td>\n",
       "</tr>\n",
       "<tr>\n",
       "  <th>Opponent[T.Colombia]</th>  <td>    0.0572</td> <td>    0.136</td> <td>    0.420</td> <td> 0.675</td> <td>   -0.210</td> <td>    0.324</td>\n",
       "</tr>\n",
       "<tr>\n",
       "  <th>Opponent[T.Ecuador]</th>   <td>    0.3121</td> <td>    0.129</td> <td>    2.413</td> <td> 0.016</td> <td>    0.059</td> <td>    0.566</td>\n",
       "</tr>\n",
       "<tr>\n",
       "  <th>Opponent[T.Paraguay]</th>  <td>    0.3568</td> <td>    0.128</td> <td>    2.790</td> <td> 0.005</td> <td>    0.106</td> <td>    0.607</td>\n",
       "</tr>\n",
       "<tr>\n",
       "  <th>Opponent[T.Peru]</th>      <td>    0.4972</td> <td>    0.124</td> <td>    4.001</td> <td> 0.000</td> <td>    0.254</td> <td>    0.741</td>\n",
       "</tr>\n",
       "<tr>\n",
       "  <th>Opponent[T.Uruguay]</th>   <td>    0.3353</td> <td>    0.129</td> <td>    2.600</td> <td> 0.009</td> <td>    0.083</td> <td>    0.588</td>\n",
       "</tr>\n",
       "<tr>\n",
       "  <th>Opponent[T.Venezuela]</th> <td>    0.7269</td> <td>    0.119</td> <td>    6.085</td> <td> 0.000</td> <td>    0.493</td> <td>    0.961</td>\n",
       "</tr>\n",
       "<tr>\n",
       "  <th>home</th>                  <td>    0.5751</td> <td>    0.053</td> <td>   10.787</td> <td> 0.000</td> <td>    0.471</td> <td>    0.680</td>\n",
       "</tr>\n",
       "</table>"
      ],
      "text/plain": [
       "<class 'statsmodels.iolib.summary.Summary'>\n",
       "\"\"\"\n",
       "                 Generalized Linear Model Regression Results                  \n",
       "==============================================================================\n",
       "Dep. Variable:                  goals   No. Observations:                 1166\n",
       "Model:                            GLM   Df Residuals:                     1146\n",
       "Model Family:                 Poisson   Df Model:                           19\n",
       "Link Function:                    Log   Scale:                          1.0000\n",
       "Method:                          IRLS   Log-Likelihood:                -1640.3\n",
       "Date:                Mon, 21 Mar 2022   Deviance:                       1319.4\n",
       "Time:                        18:21:44   Pearson chi2:                 1.17e+03\n",
       "No. Iterations:                     5   Pseudo R-squ. (CS):             0.2221\n",
       "Covariance Type:            nonrobust                                         \n",
       "=========================================================================================\n",
       "                            coef    std err          z      P>|z|      [0.025      0.975]\n",
       "-----------------------------------------------------------------------------------------\n",
       "Intercept                -0.2571      0.130     -1.983      0.047      -0.511      -0.003\n",
       "Team[T.Bolivia]          -0.2707      0.112     -2.407      0.016      -0.491      -0.050\n",
       "Team[T.Brazil]            0.1975      0.105      1.880      0.060      -0.008       0.404\n",
       "Team[T.Chile]            -0.0950      0.106     -0.899      0.369      -0.302       0.112\n",
       "Team[T.Colombia]         -0.2866      0.110     -2.597      0.009      -0.503      -0.070\n",
       "Team[T.Ecuador]          -0.1685      0.107     -1.572      0.116      -0.379       0.042\n",
       "Team[T.Paraguay]         -0.2856      0.111     -2.571      0.010      -0.503      -0.068\n",
       "Team[T.Peru]             -0.3964      0.115     -3.435      0.001      -0.623      -0.170\n",
       "Team[T.Uruguay]          -0.1424      0.107     -1.334      0.182      -0.352       0.067\n",
       "Team[T.Venezuela]        -0.4407      0.118     -3.733      0.000      -0.672      -0.209\n",
       "Opponent[T.Bolivia]       0.7567      0.119      6.338      0.000       0.523       0.991\n",
       "Opponent[T.Brazil]       -0.2042      0.162     -1.260      0.208      -0.522       0.113\n",
       "Opponent[T.Chile]         0.4241      0.127      3.339      0.001       0.175       0.673\n",
       "Opponent[T.Colombia]      0.0572      0.136      0.420      0.675      -0.210       0.324\n",
       "Opponent[T.Ecuador]       0.3121      0.129      2.413      0.016       0.059       0.566\n",
       "Opponent[T.Paraguay]      0.3568      0.128      2.790      0.005       0.106       0.607\n",
       "Opponent[T.Peru]          0.4972      0.124      4.001      0.000       0.254       0.741\n",
       "Opponent[T.Uruguay]       0.3353      0.129      2.600      0.009       0.083       0.588\n",
       "Opponent[T.Venezuela]     0.7269      0.119      6.085      0.000       0.493       0.961\n",
       "home                      0.5751      0.053     10.787      0.000       0.471       0.680\n",
       "=========================================================================================\n",
       "\"\"\""
      ]
     },
     "execution_count": 16,
     "metadata": {},
     "output_type": "execute_result"
    }
   ],
   "source": [
    "goals = pd.concat([df[['Team_home','Team_away','Goals_home']].assign(home=1).rename(columns={'Team_home':'Team', 'Team_away':'Opponent',\n",
    "'Goals_home':'goals'}), df[['Team_home','Team_away','Goals_away']].assign(home=0).rename(columns={'Team_away':'Team', 'Team_home':'Opponent',\n",
    "'Goals_away':'goals'})])\n",
    "\n",
    "poisson_model = smf.glm(formula=\"goals ~ home + Team + Opponent\", data=goals,family=sm.families.Poisson()).fit()\n",
    "poisson_model.summary()\n"
   ]
  },
  {
   "cell_type": "markdown",
   "metadata": {},
   "source": [
    "Predicción"
   ]
  },
  {
   "cell_type": "code",
   "execution_count": 23,
   "metadata": {},
   "outputs": [],
   "source": [
    "def match_results(Team, Opponent):\n",
    "    home_res = np.round(poisson_model.predict(pd.DataFrame(data={'Team': Team, 'Opponent': Opponent,'home':1},index=[1])),0)\n",
    "    away_res = np.round(poisson_model.predict(pd.DataFrame(data={'Team': Opponent, 'Opponent': Team,'home':0},index=[1])),0)\n",
    "    database.loc[(database.Team_home==Team)&(database.Team_away==Opponent)&(database.index.isin(index_na)),'Goals_home'] = home_res.values\n",
    "    database.loc[(database.Team_home==Team)&(database.Team_away==Opponent)&(database.index.isin(index_na)),'Goals_away'] = away_res.values  \n",
    "    return print(f'{Team} {home_res.values[0]:.0f} - {away_res.values[0]:.0f} {Opponent}')"
   ]
  },
  {
   "cell_type": "code",
   "execution_count": 24,
   "metadata": {},
   "outputs": [
    {
     "name": "stdout",
     "output_type": "stream",
     "text": [
      "Brazil 2 - 1 Argentina\n",
      "Uruguay 2 - 1 Peru\n",
      "Colombia 2 - 1 Bolivia\n",
      "Brazil 3 - 1 Chile\n",
      "Paraguay 1 - 1 Ecuador\n",
      "Argentina 3 - 0 Venezuela\n",
      "Peru 1 - 1 Paraguay\n",
      "Venezuela 1 - 1 Colombia\n",
      "Bolivia 1 - 2 Brazil\n",
      "Chile 2 - 1 Uruguay\n",
      "Ecuador 1 - 1 Argentina\n"
     ]
    }
   ],
   "source": [
    "match_results('Brazil', 'Argentina')\n",
    "match_results('Uruguay', 'Peru')\n",
    "match_results('Colombia', 'Bolivia')\n",
    "match_results('Brazil', 'Chile')\n",
    "match_results('Paraguay', 'Ecuador')\n",
    "match_results('Argentina', 'Venezuela')\n",
    "match_results('Peru', 'Paraguay')\n",
    "match_results('Venezuela', 'Colombia')\n",
    "match_results('Bolivia', 'Brazil')\n",
    "match_results('Chile', 'Uruguay')\n",
    "match_results('Ecuador', 'Argentina')"
   ]
  },
  {
   "cell_type": "markdown",
   "metadata": {},
   "source": [
    "Tabla de posiciones final"
   ]
  },
  {
   "cell_type": "code",
   "execution_count": 26,
   "metadata": {},
   "outputs": [],
   "source": [
    "positions = database[database['World Cup Qualif']==2022]\n",
    "\n",
    "conditions = [positions['Goals_home']>positions['Goals_away'], positions['Goals_home']==positions['Goals_away'], positions['Goals_home']<positions['Goals_away']]\n",
    "choices = [3, 1, 0]\n",
    "positions['Home_points'] = np.select(conditions, choices)\n",
    "\n",
    "conditions = [positions['Goals_away']>positions['Goals_home'], positions['Goals_home']==positions['Goals_away'], positions['Goals_away']<positions['Goals_home']]\n",
    "positions['Away_points'] = np.select(conditions, choices)\n",
    "\n",
    "positions['Goals_dif_home'] = positions['Goals_home'] - positions['Goals_away']\n",
    "positions['Goals_dif_away'] = positions['Goals_away'] - positions['Goals_home']"
   ]
  },
  {
   "cell_type": "code",
   "execution_count": 27,
   "metadata": {},
   "outputs": [],
   "source": [
    "positions = pd.concat([\n",
    "    positions[['Team_home','Home_points','Goals_dif_home']].rename(columns={'Team_home':'Team', 'Home_points':'Points',\n",
    "    'Goals_dif_home':'Goals dif'}), positions[['Team_away','Away_points','Goals_dif_away']].rename(columns={'Team_away':'Team', \n",
    "    'Away_points':'Points','Goals_dif_away':'Goals dif'})])"
   ]
  },
  {
   "cell_type": "code",
   "execution_count": 28,
   "metadata": {},
   "outputs": [
    {
     "data": {
      "text/html": [
       "<div>\n",
       "<style scoped>\n",
       "    .dataframe tbody tr th:only-of-type {\n",
       "        vertical-align: middle;\n",
       "    }\n",
       "\n",
       "    .dataframe tbody tr th {\n",
       "        vertical-align: top;\n",
       "    }\n",
       "\n",
       "    .dataframe thead th {\n",
       "        text-align: right;\n",
       "    }\n",
       "</style>\n",
       "<table border=\"1\" class=\"dataframe\">\n",
       "  <thead>\n",
       "    <tr style=\"text-align: right;\">\n",
       "      <th></th>\n",
       "      <th>Team</th>\n",
       "      <th>Points</th>\n",
       "      <th>Goals dif</th>\n",
       "    </tr>\n",
       "  </thead>\n",
       "  <tbody>\n",
       "    <tr>\n",
       "      <th>1</th>\n",
       "      <td>Brazil</td>\n",
       "      <td>48</td>\n",
       "      <td>31</td>\n",
       "    </tr>\n",
       "    <tr>\n",
       "      <th>2</th>\n",
       "      <td>Argentina</td>\n",
       "      <td>39</td>\n",
       "      <td>18</td>\n",
       "    </tr>\n",
       "    <tr>\n",
       "      <th>3</th>\n",
       "      <td>Ecuador</td>\n",
       "      <td>27</td>\n",
       "      <td>10</td>\n",
       "    </tr>\n",
       "    <tr>\n",
       "      <th>4</th>\n",
       "      <td>Uruguay</td>\n",
       "      <td>25</td>\n",
       "      <td>-3</td>\n",
       "    </tr>\n",
       "    <tr>\n",
       "      <th>5</th>\n",
       "      <td>Chile</td>\n",
       "      <td>22</td>\n",
       "      <td>-2</td>\n",
       "    </tr>\n",
       "    <tr>\n",
       "      <th>6</th>\n",
       "      <td>Peru</td>\n",
       "      <td>22</td>\n",
       "      <td>-5</td>\n",
       "    </tr>\n",
       "    <tr>\n",
       "      <th>7</th>\n",
       "      <td>Colombia</td>\n",
       "      <td>21</td>\n",
       "      <td>-2</td>\n",
       "    </tr>\n",
       "    <tr>\n",
       "      <th>8</th>\n",
       "      <td>Bolivia</td>\n",
       "      <td>15</td>\n",
       "      <td>-14</td>\n",
       "    </tr>\n",
       "    <tr>\n",
       "      <th>9</th>\n",
       "      <td>Paraguay</td>\n",
       "      <td>15</td>\n",
       "      <td>-14</td>\n",
       "    </tr>\n",
       "    <tr>\n",
       "      <th>10</th>\n",
       "      <td>Venezuela</td>\n",
       "      <td>11</td>\n",
       "      <td>-19</td>\n",
       "    </tr>\n",
       "  </tbody>\n",
       "</table>\n",
       "</div>"
      ],
      "text/plain": [
       "         Team  Points  Goals dif\n",
       "1      Brazil      48         31\n",
       "2   Argentina      39         18\n",
       "3     Ecuador      27         10\n",
       "4     Uruguay      25         -3\n",
       "5       Chile      22         -2\n",
       "6        Peru      22         -5\n",
       "7    Colombia      21         -2\n",
       "8     Bolivia      15        -14\n",
       "9    Paraguay      15        -14\n",
       "10  Venezuela      11        -19"
      ]
     },
     "execution_count": 28,
     "metadata": {},
     "output_type": "execute_result"
    }
   ],
   "source": [
    "pos = positions.pivot_table(index=\"Team\", values=['Points','Goals dif'], aggfunc=np.sum)\n",
    "pos = pos.sort_values(by=['Points','Goals dif'], axis=0, ascending=False)\n",
    "pos.reset_index(inplace=True)\n",
    "pos.index = pos.index + 1\n",
    "pos['Goals dif'] = pos['Goals dif'].astype('int32')\n",
    "pos[['Team','Points','Goals dif']]"
   ]
  },
  {
   "cell_type": "markdown",
   "metadata": {},
   "source": [
    "- [Predict football results](https://github.com/dashee87/blogScripts/blob/master/Jupyter/2017-06-04-predicting-football-results-with-statistical-modelling.ipynb)\n",
    "- [Stats models library](https://www.statsmodels.org/dev/glm.html)\n",
    "- [Poisson Regression](https://online.stat.psu.edu/stat504/lesson/9)\n",
    "- [Generalized linear models with examples](https://towardsdatascience.com/generalized-linear-models-9cbf848bb8ab)\n",
    "- [opisthokonta.net](http://opisthokonta.net/?p=296)\n",
    "- [Simulate normal models](https://paulminogue.com/index.php/2020/10/16/using-general-linear-models-to-simulate-gaelic-football-matches-in-python/)\n",
    "- [how to get the positions table](https://developpaper.com/prediction-of-football-match-result-by-python-machine-learning/)\n",
    "- [Poisson Distribution](https://www.sbo.net/strategy/football-prediction-model-poisson-distribution/)\n",
    "- [Other stimation](http://pena.lt/y/2021/06/18/predicting-football-results-using-the-poisson-distribution/)"
   ]
  }
 ],
 "metadata": {
  "interpreter": {
   "hash": "e65f7f8970d80d8ede9453f51c3cb4c3300f336491608d7a80966ecb0fcc8fc1"
  },
  "kernelspec": {
   "display_name": "Python 3.9.7 ('WebScrapping')",
   "language": "python",
   "name": "python3"
  },
  "language_info": {
   "codemirror_mode": {
    "name": "ipython",
    "version": 3
   },
   "file_extension": ".py",
   "mimetype": "text/x-python",
   "name": "python",
   "nbconvert_exporter": "python",
   "pygments_lexer": "ipython3",
   "version": "3.9.7"
  },
  "orig_nbformat": 4
 },
 "nbformat": 4,
 "nbformat_minor": 2
}
